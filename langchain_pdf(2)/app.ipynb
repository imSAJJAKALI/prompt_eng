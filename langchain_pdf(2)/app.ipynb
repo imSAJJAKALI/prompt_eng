{
 "cells": [
  {
   "cell_type": "code",
   "execution_count": 2,
   "metadata": {},
   "outputs": [],
   "source": [
    "import os\n",
    "import openai\n",
    "import sys\n",
    "\n",
    "sys.path.append(\"../..\")\n",
    "\n",
    "from dotenv import load_dotenv, find_dotenv\n",
    "_=load_dotenv(find_dotenv())\n",
    "\n",
    "opena_api_key = os.environ[\"OPEN_API_KEY\"]"
   ]
  },
  {
   "cell_type": "code",
   "execution_count": 3,
   "metadata": {},
   "outputs": [],
   "source": [
    "from langchain.document_loaders import PyPDFLoader"
   ]
  },
  {
   "cell_type": "code",
   "execution_count": 4,
   "metadata": {},
   "outputs": [],
   "source": [
    "loader = PyPDFLoader(\"./docs/sajjak-ali.pdf\")\n",
    "\n",
    "pages = loader.load()\n"
   ]
  },
  {
   "cell_type": "code",
   "execution_count": 7,
   "metadata": {},
   "outputs": [
    {
     "data": {
      "text/plain": [
       "Document(page_content='c\\nc\\nc\\ncClone of Crocs \\nClone of Belk \\ncSAJJAK ALI\\nFULL STACK WEB DEVELOPER\\nP R O F I L E\\nAs an aspiring Full Stack Web Developer, they possess a\\nstrong interest in projects that demand conceptual and\\nanalytical thinking. They are a self-motivated and\\nhardworking fresher who is eagerly seeking an opportunity\\nto work in a challenging environment. Their aim is to prove\\ntheir skills, utilize their knowledge, and contribute to the\\ngrowth of the organization.CONTACT\\nGorakhpur,Uttar Pradesh\\nsajjak2506@gmail.com\\n+91 9598839695\\nGithub\\nPortfolio\\nLinkedin\\nc EDUCATION\\nFull Stack Web Development \\nMasai School , Bengaluru , Karntaka\\nNov 2022   -  Present\\nBachelor of Computer Application\\nMCRP University , Bhopal , Madhya Pradesh \\nApr 2019   -  June 2022\\nCODING SKILLS\\nHTML5  |  CSS  |  Javascript  |\\nTypescript | ReactJs  |  ChakraUI  | \\n Redux  |  NextJs  |  Express  | \\n MongoDB  |  NodeJs  |  Bootstrap  |  \\nDSA  |  Git\\nSOFT SKILLS\\nProblem-Solving  |  Team Work  |\\nAdaptability  |  Remote Work and\\nOnline Collaboration \\nLANGUAGES\\nHindi   |   EnglishP R O J E C T S\\nCrocs is an e-commerce website that specializes in\\nselling footwear.\\nTech - Stack :  React | ChakraUi | Json-sever | NodeFeauters:  Sign-up | Sign-in | Product filtering \\naccording to price and rating | Add to Cart | Admin\\nSection | Etc. \\nResponsibilites :An Individualy project all page and \\nFunctionality done by me within 5 days.\\nBelk is an e-commerce website where you can purchase\\na wide range of clothing items for women, men, boys,\\ngirls, kids, and other fashion-related products.\\nTech - Stack :  Html | Css | Javascript | Json-sever Feauters:  Sign-up | Sign-in | Product filtering \\naccording to price and rating | Add to Cart | Payment\\npage | Coupen page Etc. \\nResponsibilites :I have collaborated on a project\\n that involved the creation of a landing page and a\\ncart page.\\nClone of Quick Buy\\nQuick Buy is an e-commerce website where you can\\npurchase a wide variety of clothing, footwear, and more.\\nTech - Stack :  React | Chakra | Css |  Json-ServerFeauters:  Sign-up | Sign-in | Product filtering \\naccording to price and rating | Add to Cart | Payment\\npage | Single Page | Cart Page | Admin Page Etc.\\nResponsibilites :I have collaborated on a project\\n that involved the creation of a login, sign-up page\\nand a single product page.ACHIEVEMENTS\\nCourse on Computer Concepts\\nZoom Marathon Challenge\\nHacker Rank Basic javascript', metadata={'source': './docs/sajjak-ali.pdf', 'page': 0})"
      ]
     },
     "execution_count": 7,
     "metadata": {},
     "output_type": "execute_result"
    }
   ],
   "source": [
    "page = pages[0]\n",
    "page"
   ]
  }
 ],
 "metadata": {
  "kernelspec": {
   "display_name": "venv",
   "language": "python",
   "name": "python3"
  },
  "language_info": {
   "codemirror_mode": {
    "name": "ipython",
    "version": 3
   },
   "file_extension": ".py",
   "mimetype": "text/x-python",
   "name": "python",
   "nbconvert_exporter": "python",
   "pygments_lexer": "ipython3",
   "version": "3.11.5"
  }
 },
 "nbformat": 4,
 "nbformat_minor": 2
}
